{
 "cells": [
  {
   "cell_type": "markdown",
   "id": "0ad5184c-3882-4c5f-8b35-23c30ec48f51",
   "metadata": {},
   "source": [
    "# VIIDEO - Video Intrinsic Integrity and Distortion Evaluation Oracle "
   ]
  },
  {
   "cell_type": "markdown",
   "id": "3d736b50",
   "metadata": {},
   "source": [
    "<div class=\"alert alert-block alert-info\">\n",
    "    <b>Important:</b> To run this code, switch to the <b><i>Scikit-Video</i></b> kernel. Button in the upper right corner.</div>"
   ]
  },
  {
   "cell_type": "code",
   "execution_count": 1,
   "id": "ff9e33b0-49f6-4bf5-8b7c-52f261bbd396",
   "metadata": {
    "tags": []
   },
   "outputs": [
    {
     "name": "stdout",
     "output_type": "stream",
     "text": [
      "Running, wait until score is obtained\n",
      "VIIDEO score: 0.398679584265\n"
     ]
    }
   ],
   "source": [
    "import skvideo.io\n",
    "import skvideo.datasets\n",
    "import skvideo.utils\n",
    "import numpy as np\n",
    "import skvideo.measure\n",
    "import pandas as pd\n",
    "\n",
    "# Path to the distorted video (adapt to your needs)\n",
    "path_video='videos/dist/x264/VCRh264_30.mp4'\n",
    "\n",
    "vid = skvideo.io.vread(path_video, outputdict={\"-pix_fmt\": \"gray\"})[:, :, :, 0]\n",
    "vid = skvideo.utils.vshape(vid)\n",
    "\n",
    "print 'Running, wait until score is obtained'\n",
    "\n",
    "viideo_score=skvideo.measure.viideo_score(vid, blocksize=(18, 18), blockoverlap=(8, 8), filterlength=7)\n",
    "\n",
    "print 'VIIDEO score: {0}'.format(viideo_score)"
   ]
  },
  {
   "cell_type": "code",
   "execution_count": null,
   "id": "295a9cee-40f7-4be1-ae17-0a217b5751af",
   "metadata": {},
   "outputs": [],
   "source": []
  }
 ],
 "metadata": {
  "kernelspec": {
   "display_name": "Scikit-Video",
   "language": "python",
   "name": "scikit-video"
  },
  "language_info": {
   "codemirror_mode": {
    "name": "ipython",
    "version": 2
   },
   "file_extension": ".py",
   "mimetype": "text/x-python",
   "name": "python",
   "nbconvert_exporter": "python",
   "pygments_lexer": "ipython2",
   "version": "2.7.18"
  },
  "vscode": {
   "interpreter": {
    "hash": "31f2aee4e71d21fbe5cf8b01ff0e069b9275f58929596ceb00d14d90e3e16cd6"
   }
  }
 },
 "nbformat": 4,
 "nbformat_minor": 5
}
