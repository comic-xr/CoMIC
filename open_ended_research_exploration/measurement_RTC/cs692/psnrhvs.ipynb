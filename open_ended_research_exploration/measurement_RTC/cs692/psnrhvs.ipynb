{
 "cells": [
  {
   "cell_type": "markdown",
   "id": "0ad5184c-3882-4c5f-8b35-23c30ec48f51",
   "metadata": {
    "tags": []
   },
   "source": [
    "# PSNR HVS "
   ]
  },
  {
   "cell_type": "markdown",
   "id": "f8835bd8-2aed-4cc8-b364-acdc8cf32eee",
   "metadata": {},
   "source": [
    "PSNR that takes the Human Visual System into account."
   ]
  },
  {
   "cell_type": "code",
   "execution_count": 1,
   "id": "f55bddfa-2cb4-462b-a6d4-92c0dd2c82b8",
   "metadata": {
    "tags": []
   },
   "outputs": [
    {
     "name": "stdout",
     "output_type": "stream",
     "text": [
      "Input #0, mov,mp4,m4a,3gp,3g2,mj2, from 'videos/ref/VCR.mp4':\n",
      "  Metadata:\n",
      "    major_brand     : mp42\n",
      "    minor_version   : 0\n",
      "    compatible_brands: mp42isom\n",
      "  Duration: 00:00:05.04, start: 0.000000, bitrate: 2976 kb/s\n",
      "  Stream #0:0[0x1](und): Video: h264 (Baseline) (avc1 / 0x31637661), yuv420p(tv, bt709, progressive), 1280x960, 2945 kb/s, 30 fps, 30 tbr, 600 tbn (default)\n",
      "    Metadata:\n",
      "      vendor_id       : [0][0][0][0]\n",
      "  Stream #0:1[0x2](und): Audio: aac (LC) (mp4a / 0x6134706D), 44100 Hz, stereo, fltp, 49 kb/s (default)\n",
      "    Metadata:\n",
      "      vendor_id       : [0][0][0][0]\n",
      "Stream mapping:\n",
      "  Stream #0:0 -> #0:0 (h264 (native) -> wrapped_avframe (native))\n",
      "Press [q] to stop, [?] for help\n",
      "Output #0, yuv4mpegpipe, to '/tmp/ref.y4m':\n",
      "  Metadata:\n",
      "    major_brand     : mp42\n",
      "    minor_version   : 0\n",
      "    compatible_brands: mp42isom\n",
      "    encoder         : Lavf59.27.100\n",
      "  Stream #0:0(und): Video: wrapped_avframe, yuv420p(tv, bt709, progressive), 1280x960, q=2-31, 200 kb/s, 30 fps, 30 tbn (default)\n",
      "    Metadata:\n",
      "      vendor_id       : [0][0][0][0]\n",
      "      encoder         : Lavc59.37.100 wrapped_avframe\n",
      "frame=  150 fps=0.0 q=-0.0 Lsize=  270001kB time=00:00:05.00 bitrate=442369.6kbits/s speed=15.6x    \n",
      "video:69kB audio:0kB subtitle:0kB other streams:0kB global headers:0kB muxing overhead: 390409.875000%\n",
      "Input #0, matroska,webm, from 'videos/dist/vp9/VCR720_50.webm':\n",
      "  Metadata:\n",
      "    creation_time   : 2025-05-13T17:51:12.000000Z\n",
      "    ENCODER         : Lavf61.7.100\n",
      "  Duration: 00:00:05.01, start: 0.000000, bitrate: 1137 kb/s\n",
      "  Stream #0:0: Video: vp9 (Profile 0), yuv420p(tv, bt709), 1280x720, SAR 281:320 DAR 281:180, 30 fps, 30 tbr, 1k tbn (default)\n",
      "    Metadata:\n",
      "      DURATION        : 00:00:05.000000000\n",
      "  Stream #0:1: Audio: vorbis, 44100 Hz, stereo, fltp (default)\n",
      "    Metadata:\n",
      "      title           : Stereo\n",
      "      DURATION        : 00:00:05.005000000\n",
      "Stream mapping:\n",
      "  Stream #0:0 -> #0:0 (vp9 (native) -> wrapped_avframe (native))\n",
      "Press [q] to stop, [?] for help\n",
      "Output #0, yuv4mpegpipe, to '/tmp/dist.y4m':\n",
      "  Metadata:\n",
      "    encoder         : Lavf59.27.100\n",
      "  Stream #0:0: Video: wrapped_avframe, yuv420p(tv, bt709, progressive), 1920x1080 [SAR 281:320 DAR 281:180], q=2-31, 200 kb/s, 30 fps, 30 tbn (default)\n",
      "    Metadata:\n",
      "      DURATION        : 00:00:05.000000000\n",
      "      encoder         : Lavc59.37.100 wrapped_avframe\n",
      "frame=  150 fps=0.0 q=-0.0 Lsize=  455626kB time=00:00:05.00 bitrate=746497.6kbits/s speed=7.05x    \n",
      "video:69kB audio:0kB subtitle:0kB other streams:0kB global headers:0kB muxing overhead: 658884.437500%\n"
     ]
    }
   ],
   "source": [
    "!ffmpeg -hide_banner -y -i videos/ref/VCR.mp4 /tmp/ref.y4m && \\\n",
    "ffmpeg -hide_banner -y -i videos/dist/vp9/VCR720_50.webm -vf scale=1920x1080 /tmp/dist.y4m"
   ]
  },
  {
   "cell_type": "markdown",
   "id": "cf1a1050",
   "metadata": {},
   "source": [
    "Once the videos have been converted, we can use `av-metrics-tool` to obtain the PSNRHVS:"
   ]
  },
  {
   "cell_type": "code",
   "execution_count": null,
   "id": "2c9e054a-92d4-409c-aaf1-25bf71397134",
   "metadata": {
    "tags": []
   },
   "outputs": [
    {
     "name": "stdout",
     "output_type": "stream",
     "text": [
      "\u001b[2KComputing PSNR-HVS - Frame 15                                                   "
     ]
    }
   ],
   "source": [
    "! \\\n",
    "mkdir -p results/psnrhvs && \\\n",
    "path_reference=\"/tmp/ref.y4m\" && \\\n",
    "path_distorted=\"/tmp/dist.y4m\"&& \\\n",
    "av-metrics-tool --metric psnrhvs --export-json results/psnrhvs/psnrhvs.json $path_reference $path_distorted"
   ]
  },
  {
   "cell_type": "code",
   "execution_count": null,
   "id": "7f336a4a-c4ce-4224-a852-76f90482d86a",
   "metadata": {},
   "outputs": [],
   "source": []
  }
 ],
 "metadata": {
  "kernelspec": {
   "display_name": "Python 3 (ipykernel)",
   "language": "python",
   "name": "python3"
  },
  "language_info": {
   "codemirror_mode": {
    "name": "ipython",
    "version": 3
   },
   "file_extension": ".py",
   "mimetype": "text/x-python",
   "name": "python",
   "nbconvert_exporter": "python",
   "pygments_lexer": "ipython3",
   "version": "3.10.11"
  },
  "vscode": {
   "interpreter": {
    "hash": "31f2aee4e71d21fbe5cf8b01ff0e069b9275f58929596ceb00d14d90e3e16cd6"
   }
  }
 },
 "nbformat": 4,
 "nbformat_minor": 5
}
