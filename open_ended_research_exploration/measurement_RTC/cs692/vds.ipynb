{
 "cells": [
  {
   "cell_type": "markdown",
   "id": "30a66006-a071-4d30-b630-69c04d84e279",
   "metadata": {},
   "source": [
    "These cells allow to play each included video in the container image."
   ]
  },
  {
   "cell_type": "code",
   "execution_count": 1,
   "id": "3607eb5d-ee22-4078-8e8d-0fba59efedeb",
   "metadata": {
    "tags": []
   },
   "outputs": [
    {
     "data": {
      "text/html": [
       "<video src=\"videos/ref/VCR.mp4\" controls  >\n",
       "      Your browser does not support the <code>video</code> element.\n",
       "    </video>"
      ],
      "text/plain": [
       "<IPython.core.display.Video object>"
      ]
     },
     "execution_count": 1,
     "metadata": {},
     "output_type": "execute_result"
    }
   ],
   "source": [
    "from IPython.display import Video\n",
    "Video(\"videos/ref/VCR.mp4\")"
   ]
  },
  {
   "cell_type": "markdown",
   "id": "e3086130-1316-4c22-a657-454a1397866c",
   "metadata": {},
   "source": [
    "# Distorted videos"
   ]
  },
  {
   "cell_type": "code",
   "execution_count": 3,
   "id": "bf406429-a2f1-40d6-be88-1f3aabb1ae57",
   "metadata": {
    "tags": []
   },
   "outputs": [
    {
     "data": {
      "text/html": [
       "<video src=\"videos/dist/vp9/VCR720_30.webm\" controls  >\n",
       "      Your browser does not support the <code>video</code> element.\n",
       "    </video>"
      ],
      "text/plain": [
       "<IPython.core.display.Video object>"
      ]
     },
     "execution_count": 3,
     "metadata": {},
     "output_type": "execute_result"
    }
   ],
   "source": [
    "from IPython.display import Video\n",
    "Video(\"videos/dist/vp9/VCR720_30.webm\")"
   ]
  },
  {
   "cell_type": "code",
   "execution_count": 2,
   "id": "58ddd0c2-1462-4e09-9b6e-193d5c956119",
   "metadata": {
    "tags": []
   },
   "outputs": [
    {
     "data": {
      "text/html": [
       "<video src=\"videos/dist/vp9/VCR720_50.webm\" controls  >\n",
       "      Your browser does not support the <code>video</code> element.\n",
       "    </video>"
      ],
      "text/plain": [
       "<IPython.core.display.Video object>"
      ]
     },
     "execution_count": 2,
     "metadata": {},
     "output_type": "execute_result"
    }
   ],
   "source": [
    "from IPython.display import Video\n",
    "Video(\"videos/dist/vp9/VCR720_50.webm\")"
   ]
  },
  {
   "cell_type": "markdown",
   "id": "4ef18ef3-feb9-4267-971e-aed0192f6190",
   "metadata": {},
   "source": [
    "## Distorted videos encoded with x264"
   ]
  },
  {
   "cell_type": "code",
   "execution_count": 4,
   "id": "f0fc0c43-f915-440a-8cd5-0c8c764a1778",
   "metadata": {
    "tags": []
   },
   "outputs": [
    {
     "data": {
      "text/html": [
       "<video src=\"videos/dist/x264/VCRh264_30.mp4\" controls  >\n",
       "      Your browser does not support the <code>video</code> element.\n",
       "    </video>"
      ],
      "text/plain": [
       "<IPython.core.display.Video object>"
      ]
     },
     "execution_count": 4,
     "metadata": {},
     "output_type": "execute_result"
    }
   ],
   "source": [
    "from IPython.display import Video\n",
    "Video(\"videos/dist/x264/VCRh264_30.mp4\")"
   ]
  },
  {
   "cell_type": "code",
   "execution_count": null,
   "id": "13c76f16-6129-49e1-96d8-77d7b9e6b2b9",
   "metadata": {
    "tags": []
   },
   "outputs": [],
   "source": []
  },
  {
   "cell_type": "code",
   "execution_count": null,
   "id": "7f6e2cf6-7c7c-469e-8b87-4f77b186b57d",
   "metadata": {},
   "outputs": [],
   "source": []
  }
 ],
 "metadata": {
  "kernelspec": {
   "display_name": "Python 3 (ipykernel)",
   "language": "python",
   "name": "python3"
  },
  "language_info": {
   "codemirror_mode": {
    "name": "ipython",
    "version": 3
   },
   "file_extension": ".py",
   "mimetype": "text/x-python",
   "name": "python",
   "nbconvert_exporter": "python",
   "pygments_lexer": "ipython3",
   "version": "3.10.11"
  }
 },
 "nbformat": 4,
 "nbformat_minor": 5
}
