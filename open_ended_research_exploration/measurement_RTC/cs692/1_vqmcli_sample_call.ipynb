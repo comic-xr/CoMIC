{
 "cells": [
  {
   "cell_type": "code",
   "execution_count": null,
   "id": "235199ce-7b82-4406-af92-72e9ef6c12f9",
   "metadata": {
    "tags": []
   },
   "outputs": [
    {
     "name": "stdout",
     "output_type": "stream",
     "text": [
      "\n",
      "Utility vqmcli to obtain video quality metrics.\n",
      "\n",
      "\u001b[0;33mUsage\u001b[0m:\n",
      "    vqmcli [options] [-r | --reference reference_video.{*}] [-d | --distorted di\n",
      "storted_video.{*}] [-o | --outdir {my_results}] [optional] \u001b[0;35m<selectd>\u001b[0m [m\n",
      "etrics]\n",
      "\n",
      "\u001b[0;33mOptions\u001b[0m:\n",
      "    -h, --help    Print help.\n",
      "    -V, --version Print version.\n",
      "    -F, --vversion   Print versions of VMAF.\n",
      "\n",
      "\u001b[0;33mRequired arguments\u001b[0m:\n",
      "    -r, --ref     Reference video {.mp4,.mkv,.webm,.y4m}.\n",
      "    -d, --dist    Distorted video {.mp4,.mkv,.webm,.y4m}.\n",
      "    -o, --outdir  Directory where results are stored\n",
      "\n",
      "    \u001b[0;33m[Info].\u001b[0m Supported codecs and containers see README.\n",
      "\n",
      "\u001b[0;33mOptional arguments\u001b[0m:\n",
      "    -j, --ext     {json,csv,xml} Format of results (default: csv).\n",
      "    -z, --size    Segment size in seconds (default: 1 second).\n",
      "\u001b[7m--More--\u001b[27m"
     ]
    }
   ],
   "source": [
    "!vqmcli --help"
   ]
  },
  {
   "cell_type": "markdown",
   "id": "6baf75e3-0816-4e57-9633-886e38710a4d",
   "metadata": {},
   "source": [
    "# study of the effect of the CRF"
   ]
  },
  {
   "cell_type": "code",
   "execution_count": 1,
   "id": "bb05e62c-8620-482d-bf72-aab4902e40dc",
   "metadata": {
    "tags": []
   },
   "outputs": [
    {
     "name": "stdout",
     "output_type": "stream",
     "text": [
      "Computing metrics...\n",
      "\u001b[48;5;0m\u001b[38;5;196mduration: No such file or directory\n",
      "\u001b[0m\u001b[48;5;0m\u001b[38;5;196mduration: No such file or directory\n",
      "\u001b[0m\n",
      "If big segment sizes are used, memory problems may arise as\n",
      "  segments (reference and distorted) must be loaded into memory.\n",
      "\n",
      "\u001b[0;33m[Info]: Spliting the videos: \u001b[0m Segment size 1 sec. \n",
      "\u001b[0;33m[Info]: Scaling distorted video. \u001b[0m\u001b[?25l\u001b[?12l\u001b[?25h\n",
      "\n",
      "\u001b[0;33m[Info]: Processing Chunk 1 of 5. \u001b[0m\u001b[?25l\u001b[?12l\u001b[?25h\u001b[?25l\u001b[?12l\u001b[?25h\n",
      "\u001b[0;32m[Step]:\u001b[0m Process VMAF. \u001b[?25l\n",
      "\u001b[0;33m[Info]: Scale two videos to calculate VMAF (1080p).  \u001b[0\u001b[?12l\u001b[?25h\n",
      "\n",
      "\u001b[0;33m[Info]: Processing Chunk 2 of 5. \u001b[0m\u001b[?25l\u001b[?12l\u001b[?25h\u001b[?25l\u001b[?12l\u001b[?25h\n",
      "\u001b[0;32m[Step]:\u001b[0m Process VMAF. \u001b[?25l\u001b[?12l\u001b[?25h\n",
      "\n",
      "\u001b[0;33m[Info]: Processing Chunk 3 of 5. \u001b[0m\u001b[?25l\u001b[?12l\u001b[?25h\u001b[?25l\u001b[?12l\u001b[?25h\n",
      "\u001b[0;32m[Step]:\u001b[0m Process VMAF. \u001b[?25l\u001b[?12l\u001b[?25h\n",
      "\n",
      "\u001b[0;33m[Info]: Processing Chunk 4 of 5. \u001b[0m\u001b[?25l\u001b[?12l\u001b[?25h\u001b[?25l\u001b[?12l\u001b[?25h\n",
      "\u001b[0;32m[Step]:\u001b[0m Process VMAF. \u001b[?25l\u001b[?12l\u001b[?25h\n",
      "\n",
      "\u001b[0;33m[Info]: Processing Chunk 5 of 5. \u001b[0m\u001b[?25l\u001b[?12l\u001b[?25h\u001b[?25l\u001b[?12l\u001b[?25h\n",
      "\u001b[0;32m[Step]:\u001b[0m Process VMAF. \u001b[?25l\u001b[?12l\u001b[?25h\n",
      "\n",
      "\u001b[0;32m[Step]:\u001b[0m Metric successfully calculated.\n",
      "\u001b[?12l\u001b[?25h"
     ]
    }
   ],
   "source": [
    "!echo \"Computing metrics...\" && \\\n",
    "vqmcli -r videos/ref/VCR.mp4 -d videos/dist/vp9/VCR720_30.webm -o /tmp/vmaf_CRF30 -z 1 --vmaf "
   ]
  },
  {
   "cell_type": "code",
   "execution_count": 8,
   "id": "9601d2f5-6e94-4a9e-9505-4a4d01244799",
   "metadata": {
    "tags": []
   },
   "outputs": [
    {
     "name": "stdout",
     "output_type": "stream",
     "text": [
      "Computing metrics...\n",
      "\u001b[48;5;0m\u001b[38;5;196mduration: No such file or directory\n",
      "\u001b[0m\u001b[48;5;0m\u001b[38;5;196mduration: No such file or directory\n",
      "\u001b[0m\n",
      "If big segment sizes are used, memory problems may arise as\n",
      "  segments (reference and distorted) must be loaded into memory.\n",
      "\n",
      "\u001b[0;33m[Info]: Spliting the videos: \u001b[0m Segment size 1 sec. \n",
      "\u001b[0;33m[Info]: Scaling distorted video. \u001b[0m\u001b[?25l\u001b[?12l\u001b[?25h\n",
      "\n",
      "\u001b[0;33m[Info]: Processing Chunk 1 of 5. \u001b[0m\u001b[?25l\u001b[?12l\u001b[?25h\u001b[?25l\u001b[?12l\u001b[?25h\n",
      "\u001b[0;32m[Step]:\u001b[0m Process VMAF. \u001b[?25l\n",
      "\u001b[0;33m[Info]: Scale two videos to calculate VMAF (1080p).  \u001b[0\u001b[?12l\u001b[?25h\n",
      "\n",
      "\u001b[0;33m[Info]: Processing Chunk 2 of 5. \u001b[0m\u001b[?25l\u001b[?12l\u001b[?25h\u001b[?25l\u001b[?12l\u001b[?25h\n",
      "\u001b[0;32m[Step]:\u001b[0m Process VMAF. \u001b[?25l\u001b[?12l\u001b[?25h\n",
      "\n",
      "\u001b[0;33m[Info]: Processing Chunk 3 of 5. \u001b[0m\u001b[?25l\u001b[?12l\u001b[?25h\u001b[?25l\u001b[?12l\u001b[?25h\n",
      "\u001b[0;32m[Step]:\u001b[0m Process VMAF. \u001b[?25l\u001b[?12l\u001b[?25h\n",
      "\n",
      "\u001b[0;33m[Info]: Processing Chunk 4 of 5. \u001b[0m\u001b[?25l\u001b[?12l\u001b[?25h\u001b[?25l\u001b[?12l\u001b[?25h\n",
      "\u001b[0;32m[Step]:\u001b[0m Process VMAF. \u001b[?25l\u001b[?12l\u001b[?25h\n",
      "\n",
      "\u001b[0;33m[Info]: Processing Chunk 5 of 5. \u001b[0m\u001b[?25l\u001b[?12l\u001b[?25h\u001b[?25l\u001b[?12l\u001b[?25h\n",
      "\u001b[0;32m[Step]:\u001b[0m Process VMAF. \u001b[?25l\u001b[?12l\u001b[?25h\n",
      "\n",
      "\u001b[0;32m[Step]:\u001b[0m Metric successfully calculated.\n",
      "\u001b[?12l\u001b[?25h"
     ]
    }
   ],
   "source": [
    "!echo \"Computing metrics...\" && \\\n",
    "vqmcli -r videos/ref/VCR.mp4 -d videos/dist/vp9/VCR720_30.webm -o /tmp/vmaf_CRF50 -z 1 --vmaf "
   ]
  },
  {
   "cell_type": "code",
   "execution_count": 9,
   "id": "0285fa2c-9605-4046-8e52-a0f9e8ac6599",
   "metadata": {
    "tags": []
   },
   "outputs": [
    {
     "name": "stdout",
     "output_type": "stream",
     "text": [
      "chunk,vmaf\n",
      "1,0\n",
      "2,0\n",
      "3,0\n",
      "4,0\n",
      "5,0\n",
      "chunk,vmaf\n",
      "1,0\n",
      "2,0\n",
      "3,0\n",
      "4,0\n",
      "5,0\n"
     ]
    }
   ],
   "source": [
    "!cat /tmp/vmaf_CRF30/vqmcli_results.csv && cat /tmp/vmaf_CRF50/vqmcli_results.csv "
   ]
  },
  {
   "cell_type": "markdown",
   "id": "487fadc0-f8c2-4951-8f76-05e5865fa999",
   "metadata": {},
   "source": [
    "# analysis of the effect of resolution"
   ]
  },
  {
   "cell_type": "code",
   "execution_count": 2,
   "id": "0a133de8-bc02-4a8e-af09-54f6b38f17b6",
   "metadata": {
    "tags": []
   },
   "outputs": [
    {
     "name": "stdout",
     "output_type": "stream",
     "text": [
      "Input #0, matroska,webm, from 'videos/dist/vp9/VCR720_30.webm':\n",
      "  Metadata:\n",
      "    creation_time   : 2025-05-13T17:50:35.000000Z\n",
      "    ENCODER         : Lavf61.7.100\n",
      "  Duration: 00:00:05.01, start: 0.000000, bitrate: 1137 kb/s\n",
      "  Stream #0:0: Video: vp9 (Profile 0), yuv420p(tv, bt709), 1280x720, SAR 281:320 DAR 281:180, 30 fps, 30 tbr, 1k tbn (default)\n",
      "    Metadata:\n",
      "      DURATION        : 00:00:05.000000000\n",
      "  Stream #0:1: Audio: vorbis, 44100 Hz, stereo, fltp (default)\n",
      "    Metadata:\n",
      "      title           : Stereo\n",
      "      DURATION        : 00:00:05.005000000\n",
      "Stream mapping:\n",
      "  Stream #0:0 -> #0:0 (vp9 (native) -> h264 (libx264))\n",
      "  Stream #0:1 -> #0:1 (vorbis (native) -> aac (native))\n",
      "Press [q] to stop, [?] for help\n",
      "\u001b[1;36m[libx264 @ 0x7ffff997a800] \u001b[0musing SAR=281/320\n",
      "\u001b[1;36m[libx264 @ 0x7ffff997a800] \u001b[0musing cpu capabilities: MMX2 SSE2Fast SSSE3 SSE4.2\n",
      "\u001b[1;36m[libx264 @ 0x7ffff997a800] \u001b[0mprofile High 4:4:4 Predictive, level 3.1, 4:2:0, 8-bit\n",
      "\u001b[1;36m[libx264 @ 0x7ffff997a800] \u001b[0m264 - core 164 r3095 baee400 - H.264/MPEG-4 AVC codec - Copyleft 2003-2022 - http://www.videolan.org/x264.html - options: cabac=1 ref=3 deblock=1:0:0 analyse=0x3:0x113 me=hex subme=7 psy=0 mixed_ref=1 me_range=16 chroma_me=1 trellis=0 8x8dct=1 cqm=0 deadzone=21,11 fast_pskip=0 chroma_qp_offset=0 threads=12 lookahead_threads=2 sliced_threads=0 nr=0 decimate=1 interlaced=0 bluray_compat=0 constrained_intra=0 bframes=0 weightp=2 keyint=250 keyint_min=25 scenecut=40 intra_refresh=0 rc=cqp mbtree=0 qp=0\n",
      "Output #0, mp4, to '/tmp/dist.mp4':\n",
      "  Metadata:\n",
      "    encoder         : Lavf59.27.100\n",
      "  Stream #0:0: Video: h264 (avc1 / 0x31637661), yuv420p(tv, bt709, progressive), 1280x720 [SAR 281:320 DAR 281:180], q=2-31, 30 fps, 15360 tbn (default)\n",
      "    Metadata:\n",
      "      DURATION        : 00:00:05.000000000\n",
      "      encoder         : Lavc59.37.100 libx264\n",
      "    Side data:\n",
      "      cpb: bitrate max/min/avg: 0/0/0 buffer size: 0 vbv_delay: N/A\n",
      "  Stream #0:1: Audio: aac (LC) (mp4a / 0x6134706D), 44100 Hz, stereo, fltp, 128 kb/s (default)\n",
      "    Metadata:\n",
      "      title           : Stereo\n",
      "      DURATION        : 00:00:05.005000000\n",
      "      encoder         : Lavc59.37.100 aac\n",
      "frame=  150 fps= 55 q=-1.0 Lsize=   11687kB time=00:00:05.01 bitrate=19087.9kbits/s speed=1.84x    \n",
      "video:11602kB audio:78kB subtitle:0kB other streams:0kB global headers:0kB muxing overhead: 0.058701%\n",
      "\u001b[1;36m[libx264 @ 0x7ffff997a800] \u001b[0mframe I:1     Avg QP: 0.00  size: 71423\n",
      "\u001b[1;36m[libx264 @ 0x7ffff997a800] \u001b[0mframe P:149   Avg QP: 0.00  size: 79254\n",
      "\u001b[1;36m[libx264 @ 0x7ffff997a800] \u001b[0mmb I  I16..4: 68.2% 20.3% 11.5%\n",
      "\u001b[1;36m[libx264 @ 0x7ffff997a800] \u001b[0mmb P  I16..4: 59.4% 11.8%  6.5%  P16..4:  6.8%  1.0%  0.6%  0.0%  0.0%    skip:13.8%\n",
      "\u001b[1;36m[libx264 @ 0x7ffff997a800] \u001b[0m8x8 transform intra:15.3% inter:52.1%\n",
      "\u001b[1;36m[libx264 @ 0x7ffff997a800] \u001b[0mcoded y,uvDC,uvAC intra: 90.6% 43.6% 42.9% inter: 21.5% 21.4% 21.1%\n",
      "\u001b[1;36m[libx264 @ 0x7ffff997a800] \u001b[0mi16 v,h,dc,p: 48% 51%  0%  1%\n",
      "\u001b[1;36m[libx264 @ 0x7ffff997a800] \u001b[0mi8 v,h,dc,ddl,ddr,vr,hd,vl,hu: 36% 45%  5%  3%  6%  1%  2%  1%  1%\n",
      "\u001b[1;36m[libx264 @ 0x7ffff997a800] \u001b[0mi4 v,h,dc,ddl,ddr,vr,hd,vl,hu: 26% 49%  2%  2%  7%  3%  9%  1%  1%\n",
      "\u001b[1;36m[libx264 @ 0x7ffff997a800] \u001b[0mi8c dc,h,v,p: 35% 37% 28%  0%\n",
      "\u001b[1;36m[libx264 @ 0x7ffff997a800] \u001b[0mWeighted P-Frames: Y:0.0% UV:0.0%\n",
      "\u001b[1;36m[libx264 @ 0x7ffff997a800] \u001b[0mref P L0: 55.9%  3.1% 16.6% 24.4%\n",
      "\u001b[1;36m[libx264 @ 0x7ffff997a800] \u001b[0mkb/s:19008.32\n",
      "\u001b[1;36m[aac @ 0x7ffff9994800] \u001b[0mQavg: 7692.667\n",
      "\u001b[48;5;0m\u001b[38;5;196mduration: No such file or directory\n",
      "\u001b[0m\u001b[48;5;0m\u001b[38;5;196mduration: No such file or directory\n",
      "\u001b[0m\n",
      "If big segment sizes are used, memory problems may arise as\n",
      "  segments (reference and distorted) must be loaded into memory.\n",
      "\n",
      "\u001b[0;33m[Info]: Spliting the videos: \u001b[0m Segment size 1 sec. \n",
      "\u001b[0;33m[Info]: Scaling distorted video. \u001b[0m\u001b[?25l\u001b[?12l\u001b[?25h\n",
      "\n",
      "\u001b[0;33m[Info]: Processing Chunk 1 of 5. \u001b[0m\u001b[?25l\u001b[?12l\u001b[?25h\u001b[?25l\u001b[?12l\u001b[?25h\n",
      "\u001b[0;32m[Step]:\u001b[0m Process VMAF. \u001b[?25l\n",
      "\u001b[0;33m[Info]: Scale two videos to calculate VMAF (1080p).  \u001b[0\u001b[?12l\u001b[?25h\n",
      "\n",
      "\u001b[0;33m[Info]: Processing Chunk 2 of 5. \u001b[0m\u001b[?25l\u001b[?12l\u001b[?25h\u001b[?25l\u001b[?12l\u001b[?25h\n",
      "\u001b[0;32m[Step]:\u001b[0m Process VMAF. \u001b[?25l\u001b[?12l\u001b[?25h\n",
      "\n",
      "\u001b[0;33m[Info]: Processing Chunk 3 of 5. \u001b[0m\u001b[?25l\u001b[?12l\u001b[?25h\u001b[?25l\u001b[?12l\u001b[?25h\n",
      "\u001b[0;32m[Step]:\u001b[0m Process VMAF. \u001b[?25l\u001b[?12l\u001b[?25h\n",
      "\n",
      "\u001b[0;33m[Info]: Processing Chunk 4 of 5. \u001b[0m\u001b[?25l\u001b[?12l\u001b[?25h\u001b[?25l\u001b[?12l\u001b[?25h\n",
      "\u001b[0;32m[Step]:\u001b[0m Process VMAF. \u001b[?25l\u001b[?12l\u001b[?25h\n",
      "\n",
      "\u001b[0;33m[Info]: Processing Chunk 5 of 5. \u001b[0m\u001b[?25l\u001b[?12l\u001b[?25h\u001b[?25l\u001b[?12l\u001b[?25h\n",
      "\u001b[0;32m[Step]:\u001b[0m Process VMAF. \u001b[?25l\u001b[?12l\u001b[?25h\n",
      "\n",
      "\u001b[0;32m[Step]:\u001b[0m Metric successfully calculated.\n",
      "\u001b[?12l\u001b[?25h"
     ]
    }
   ],
   "source": [
    "!ffmpeg -hide_banner -y -i videos/dist/vp9/VCR720_30.webm -c:v libx264 -crf 0 /tmp/dist.mp4 && \\\n",
    "vqmcli -r videos/ref/VCR.mp4 -d /tmp/dist.mp4 -o /tmp/vmaf_360p -z 1 --vmaf "
   ]
  },
  {
   "cell_type": "code",
   "execution_count": 3,
   "id": "0dada2e3-74e6-4e6d-a293-8326a1bed59d",
   "metadata": {
    "tags": []
   },
   "outputs": [
    {
     "name": "stdout",
     "output_type": "stream",
     "text": [
      "Computing metrics...\n",
      "\u001b[48;5;0m\u001b[38;5;196mduration: No such file or directory\n",
      "\u001b[0m\u001b[48;5;0m\u001b[38;5;196mduration: No such file or directory\n",
      "\u001b[0m\n",
      "If big segment sizes are used, memory problems may arise as\n",
      "  segments (reference and distorted) must be loaded into memory.\n",
      "\n",
      "\u001b[0;33m[Info]: Spliting the videos: \u001b[0m Segment size 1 sec. \n",
      "\u001b[0;33m[Info]: Scaling distorted video. \u001b[0m\u001b[?25l\u001b[?12l\u001b[?25h\n",
      "\n",
      "\u001b[0;33m[Info]: Processing Chunk 1 of 5. \u001b[0m\u001b[?25l\u001b[?12l\u001b[?25h\u001b[?25l\u001b[?12l\u001b[?25h\n",
      "\u001b[0;32m[Step]:\u001b[0m Process VMAF. \u001b[?25l\n",
      "\u001b[0;33m[Info]: Scale two videos to calculate VMAF (1080p).  \u001b[0\u001b[?12l\u001b[?25h\n",
      "\n",
      "\u001b[0;33m[Info]: Processing Chunk 2 of 5. \u001b[0m\u001b[?25l\u001b[?12l\u001b[?25h\u001b[?25l\u001b[?12l\u001b[?25h\n",
      "\u001b[0;32m[Step]:\u001b[0m Process VMAF. \u001b[?25l\u001b[?12l\u001b[?25h\n",
      "\n",
      "\u001b[0;33m[Info]: Processing Chunk 3 of 5. \u001b[0m\u001b[?25l\u001b[?12l\u001b[?25h\u001b[?25l\u001b[?12l\u001b[?25h\n",
      "\u001b[0;32m[Step]:\u001b[0m Process VMAF. \u001b[?25l\u001b[?12l\u001b[?25h\n",
      "\n",
      "\u001b[0;33m[Info]: Processing Chunk 4 of 5. \u001b[0m\u001b[?25l\u001b[?12l\u001b[?25h\u001b[?25l\u001b[?12l\u001b[?25h\n",
      "\u001b[0;32m[Step]:\u001b[0m Process VMAF. \u001b[?25l\u001b[?12l\u001b[?25h\n",
      "\n",
      "\u001b[0;33m[Info]: Processing Chunk 5 of 5. \u001b[0m\u001b[?25l\u001b[?12l\u001b[?25h\u001b[?25l\u001b[?12l\u001b[?25h\n",
      "\u001b[0;32m[Step]:\u001b[0m Process VMAF. \u001b[?25l\u001b[?12l\u001b[?25h\n",
      "\n",
      "\u001b[0;32m[Step]:\u001b[0m Metric successfully calculated.\n",
      "\u001b[?12l\u001b[?25h"
     ]
    }
   ],
   "source": [
    "!echo \"Computing metrics...\" && \\\n",
    "vqmcli -r videos/ref/VCR.mp4 -d videos/dist/vp9/VCR720_30.webm -o /tmp/vmaf_1080p -z 1 --vmaf "
   ]
  },
  {
   "cell_type": "code",
   "execution_count": 13,
   "id": "34cd8d53-1862-4e3e-94fb-bf3e0f7335b4",
   "metadata": {
    "tags": []
   },
   "outputs": [
    {
     "name": "stdout",
     "output_type": "stream",
     "text": [
      "chunk,vmaf\n",
      "1,0\n",
      "2,0\n",
      "3,0\n",
      "4,0\n",
      "5,0\n",
      "chunk,vmaf\n",
      "1,0\n",
      "2,0\n",
      "3,0\n",
      "4,0\n",
      "5,0\n"
     ]
    }
   ],
   "source": [
    "!cat /tmp/vmaf_360p/vqmcli_results.csv && cat /tmp/vmaf_1080p/vqmcli_results.csv "
   ]
  },
  {
   "cell_type": "code",
   "execution_count": null,
   "id": "809b66e3-731b-4da3-9a02-eb74e00fd0a9",
   "metadata": {},
   "outputs": [],
   "source": []
  }
 ],
 "metadata": {
  "kernelspec": {
   "display_name": "Python 3 (ipykernel)",
   "language": "python",
   "name": "python3"
  },
  "language_info": {
   "codemirror_mode": {
    "name": "ipython",
    "version": 3
   },
   "file_extension": ".py",
   "mimetype": "text/x-python",
   "name": "python",
   "nbconvert_exporter": "python",
   "pygments_lexer": "ipython3",
   "version": "3.10.11"
  }
 },
 "nbformat": 4,
 "nbformat_minor": 5
}
