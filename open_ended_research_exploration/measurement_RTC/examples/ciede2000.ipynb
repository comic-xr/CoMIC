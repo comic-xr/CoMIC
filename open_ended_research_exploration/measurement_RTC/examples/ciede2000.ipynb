{
 "cells": [
  {
   "cell_type": "markdown",
   "id": "0ad5184c-3882-4c5f-8b35-23c30ec48f51",
   "metadata": {
    "tags": []
   },
   "source": [
    "# CIEDE2000 - Color-Difference Formula"
   ]
  },
  {
   "cell_type": "markdown",
   "id": "772cddc9-88e6-42e4-a6f7-3bf37dfbb86f",
   "metadata": {},
   "source": [
    "#### Source: https://github.com/dwbuiten/av-metrics"
   ]
  },
  {
   "cell_type": "markdown",
   "id": "1a4d3921-242f-42d0-bb50-da7b2d5734fe",
   "metadata": {},
   "source": [
    "### Example:"
   ]
  },
  {
   "cell_type": "markdown",
   "id": "4c9813a4",
   "metadata": {},
   "source": [
    "The implementation of CIEDE2000 included requires the videos in Y4M format. Therefore, ffmpeg is used to transform YUV videos (reference and distorted) to Y4M format:"
   ]
  },
  {
   "cell_type": "code",
   "execution_count": 1,
   "id": "f55bddfa-2cb4-462b-a6d4-92c0dd2c82b8",
   "metadata": {
    "tags": []
   },
   "outputs": [
    {
     "name": "stdout",
     "output_type": "stream",
     "text": [
      "Input #0, mov,mp4,m4a,3gp,3g2,mj2, from 'videos/ref/VCR.mp4':\n",
      "  Metadata:\n",
      "    major_brand     : mp42\n",
      "    minor_version   : 0\n",
      "    compatible_brands: mp42isom\n",
      "  Duration: 00:00:05.04, start: 0.000000, bitrate: 2976 kb/s\n",
      "  Stream #0:0[0x1](und): Video: h264 (Baseline) (avc1 / 0x31637661), yuv420p(tv, bt709, progressive), 1280x960, 2945 kb/s, 30 fps, 30 tbr, 600 tbn (default)\n",
      "    Metadata:\n",
      "      vendor_id       : [0][0][0][0]\n",
      "  Stream #0:1[0x2](und): Audio: aac (LC) (mp4a / 0x6134706D), 44100 Hz, stereo, fltp, 49 kb/s (default)\n",
      "    Metadata:\n",
      "      vendor_id       : [0][0][0][0]\n",
      "Stream mapping:\n",
      "  Stream #0:0 -> #0:0 (h264 (native) -> wrapped_avframe (native))\n",
      "Press [q] to stop, [?] for help\n",
      "Output #0, yuv4mpegpipe, to '/tmp/ref.y4m':\n",
      "  Metadata:\n",
      "    major_brand     : mp42\n",
      "    minor_version   : 0\n",
      "    compatible_brands: mp42isom\n",
      "    encoder         : Lavf59.27.100\n",
      "  Stream #0:0(und): Video: wrapped_avframe, yuv420p(tv, bt709, progressive), 1280x960, q=2-31, 200 kb/s, 30 fps, 30 tbn (default)\n",
      "    Metadata:\n",
      "      vendor_id       : [0][0][0][0]\n",
      "      encoder         : Lavc59.37.100 wrapped_avframe\n",
      "frame=  150 fps=0.0 q=-0.0 Lsize=  270001kB time=00:00:05.00 bitrate=442369.6kbits/s speed=17.4x    \n",
      "video:69kB audio:0kB subtitle:0kB other streams:0kB global headers:0kB muxing overhead: 390409.875000%\n",
      "Input #0, mov,mp4,m4a,3gp,3g2,mj2, from 'videos/dist/x264/VCRh264_30.mp4':\n",
      "  Metadata:\n",
      "    major_brand     : mp42\n",
      "    minor_version   : 512\n",
      "    compatible_brands: mp42iso2avc1mp41\n",
      "    creation_time   : 2025-05-13T17:52:43.000000Z\n",
      "    encoder         : HandBrake 1.9.2 2025022300\n",
      "  Duration: 00:00:05.04, start: 0.000000, bitrate: 1816 kb/s\n",
      "  Stream #0:0[0x1](und): Video: h264 (High) (avc1 / 0x31637661), yuv420p(tv, bt709, progressive), 1280x720 [SAR 36:41 DAR 64:41], 1658 kb/s, 30 fps, 30 tbr, 90k tbn (default)\n",
      "    Metadata:\n",
      "      creation_time   : 2025-05-13T17:52:43.000000Z\n",
      "      handler_name    : VideoHandler\n",
      "      vendor_id       : [0][0][0][0]\n",
      "  Stream #0:1[0x2](und): Audio: aac (LC) (mp4a / 0x6134706D), 44100 Hz, stereo, fltp, 159 kb/s (default)\n",
      "    Metadata:\n",
      "      creation_time   : 2025-05-13T17:52:43.000000Z\n",
      "      handler_name    : Stereo\n",
      "      vendor_id       : [0][0][0][0]\n",
      "Stream mapping:\n",
      "  Stream #0:0 -> #0:0 (h264 (native) -> wrapped_avframe (native))\n",
      "Press [q] to stop, [?] for help\n",
      "Output #0, yuv4mpegpipe, to '/tmp/dist.y4m':\n",
      "  Metadata:\n",
      "    major_brand     : mp42\n",
      "    minor_version   : 512\n",
      "    compatible_brands: mp42iso2avc1mp41\n",
      "    encoder         : Lavf59.27.100\n",
      "  Stream #0:0(und): Video: wrapped_avframe, yuv420p(tv, bt709, progressive), 1280x720 [SAR 36:41 DAR 64:41], q=2-31, 200 kb/s, 30 fps, 30 tbn (default)\n",
      "    Metadata:\n",
      "      creation_time   : 2025-05-13T17:52:43.000000Z\n",
      "      handler_name    : VideoHandler\n",
      "      vendor_id       : [0][0][0][0]\n",
      "      encoder         : Lavc59.37.100 wrapped_avframe\n",
      "frame=  150 fps=0.0 q=-0.0 Lsize=  202501kB time=00:00:05.00 bitrate=331777.6kbits/s speed=19.8x    \n",
      "video:69kB audio:0kB subtitle:0kB other streams:0kB global headers:0kB muxing overhead: 292782.750000%\n"
     ]
    }
   ],
   "source": [
    "# Reference video \n",
    "!ffmpeg -hide_banner -y -i videos/ref/VCR.mp4 /tmp/ref.y4m\n",
    "# Distorted video\n",
    "!ffmpeg -hide_banner -y -i videos/dist/x264/VCRh264_30.mp4 /tmp/dist.y4m"
   ]
  },
  {
   "cell_type": "markdown",
   "id": "37f431d3",
   "metadata": {},
   "source": [
    "Then these videos are passed as arguments to `av-metrics-tool` to generate the file `results/ciede2000/ciede2000.json`:"
   ]
  },
  {
   "cell_type": "code",
   "execution_count": null,
   "id": "2c9e054a-92d4-409c-aaf1-25bf71397134",
   "metadata": {
    "tags": []
   },
   "outputs": [
    {
     "name": "stdout",
     "output_type": "stream",
     "text": [
      "\u001b[2KComputing CIEDE2000 - Frame 15                                                  "
     ]
    }
   ],
   "source": [
    "! \\\n",
    "mkdir -p results/ciede2000 && \\\n",
    "path_reference=\"/tmp/ref.y4m\" && \\\n",
    "path_distorted=\"/tmp/dist.y4m\" && \\\n",
    "av-metrics-tool --metric ciede2000 --export-json results/ciede2000/ciede2000.json  $path_reference $path_distorted"
   ]
  },
  {
   "cell_type": "code",
   "execution_count": null,
   "id": "91f4bf91-19e8-4320-9309-aa45ecdc8310",
   "metadata": {},
   "outputs": [],
   "source": []
  }
 ],
 "metadata": {
  "kernelspec": {
   "display_name": "Python 3 (ipykernel)",
   "language": "python",
   "name": "python3"
  },
  "language_info": {
   "codemirror_mode": {
    "name": "ipython",
    "version": 3
   },
   "file_extension": ".py",
   "mimetype": "text/x-python",
   "name": "python",
   "nbconvert_exporter": "python",
   "pygments_lexer": "ipython3",
   "version": "3.10.11"
  },
  "vscode": {
   "interpreter": {
    "hash": "31f2aee4e71d21fbe5cf8b01ff0e069b9275f58929596ceb00d14d90e3e16cd6"
   }
  }
 },
 "nbformat": 4,
 "nbformat_minor": 5
}
